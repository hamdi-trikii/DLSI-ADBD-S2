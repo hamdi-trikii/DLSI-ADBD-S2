{
  "nbformat": 4,
  "nbformat_minor": 0,
  "metadata": {
    "colab": {
      "provenance": [],
      "authorship_tag": "ABX9TyPhFDTHqUSgMgNqU/UZOncT",
      "include_colab_link": true
    },
    "kernelspec": {
      "name": "python3",
      "display_name": "Python 3"
    },
    "language_info": {
      "name": "python"
    }
  },
  "cells": [
    {
      "cell_type": "markdown",
      "metadata": {
        "id": "view-in-github",
        "colab_type": "text"
      },
      "source": [
        "<a href=\"https://colab.research.google.com/github/hamdi-trikii/DLSI-ADBD-S2/blob/main/AFD/AFD_TP0.ipynb\" target=\"_parent\"><img src=\"https://colab.research.google.com/assets/colab-badge.svg\" alt=\"Open In Colab\"/></a>"
      ]
    },
    {
      "cell_type": "code",
      "execution_count": null,
      "metadata": {
        "id": "vhW-13Oxv3E-",
        "colab": {
          "base_uri": "https://localhost:8080/"
        },
        "outputId": "09c69ebd-2fb4-4c0d-b435-60ec0749a123"
      },
      "outputs": [
        {
          "output_type": "stream",
          "name": "stdout",
          "text": [
            "        Name  score  attempts qualify\n",
            "a  Anastasia   12.5         1     yes\n",
            "b       Dima    9.0         3      no\n",
            "c  Katherine   16.5         2     yes\n",
            "d      James    NaN         3      no\n",
            "e      Emily    9.0         2      no\n",
            "f    Michael   20.0         3     yes\n",
            "g    Matthew   14.5         1     yes\n",
            "h      Laura    NaN         1      no\n",
            "i      Kevin    8.0         2      no\n",
            "j      Jonas   19.0         1     yes\n"
          ]
        }
      ],
      "source": [
        "import pandas as pd\n",
        "import numpy as np\n",
        "\n",
        "data = {\n",
        "    'Name': ['Anastasia', 'Dima', 'Katherine', 'James', 'Emily', 'Michael', 'Matthew', 'Laura', 'Kevin', 'Jonas'],\n",
        "    'score': [12.5, 9.0, 16.5, np.nan, 9.0, 20.0, 14.5, np.nan, 8.0, 19.0],\n",
        "    'attempts': [1, 3, 2, 3, 2, 3, 1, 1, 2, 1],\n",
        "    'qualify': ['yes', 'no', 'yes', 'no', 'no', 'yes', 'yes', 'no', 'no', 'yes']\n",
        "}\n",
        "df = pd.DataFrame(data, index=['a', 'b', 'c', 'd', 'e', 'f', 'g', 'h', 'i', 'j'])\n",
        "\"\"\"\n",
        "df2=df.to_string(index=False)\n",
        "print(type(df2))\n",
        "\"\"\"\n",
        "\"\"\"\n",
        "label=['a', 'b', 'c', 'd', 'e', 'f', 'g', 'h', 'i', 'j']\n",
        "df = pd.DataFrame(data, label)\n",
        "\n",
        "\"\"\"\n",
        "\n",
        "# Afficher le DataFrame\n",
        "print(df)\n"
      ]
    },
    {
      "cell_type": "code",
      "source": [
        "\n",
        "print(df.info())\n",
        "print(\"*******************\")\n",
        "print(df.head())\n"
      ],
      "metadata": {
        "colab": {
          "base_uri": "https://localhost:8080/"
        },
        "id": "bZ9Mv_Jzjkth",
        "outputId": "260363d3-ba7b-4253-df70-f4bfc1101192"
      },
      "execution_count": null,
      "outputs": [
        {
          "output_type": "stream",
          "name": "stdout",
          "text": [
            "<class 'pandas.core.frame.DataFrame'>\n",
            "Index: 10 entries, a to j\n",
            "Data columns (total 4 columns):\n",
            " #   Column    Non-Null Count  Dtype  \n",
            "---  ------    --------------  -----  \n",
            " 0   Name      10 non-null     object \n",
            " 1   score     8 non-null      float64\n",
            " 2   attempts  10 non-null     int64  \n",
            " 3   qualify   10 non-null     object \n",
            "dtypes: float64(1), int64(1), object(2)\n",
            "memory usage: 400.0+ bytes\n",
            "None\n",
            "*******************\n",
            "        Name  score  attempts qualify\n",
            "a  Anastasia   12.5         1     yes\n",
            "b       Dima    9.0         3      no\n",
            "c  Katherine   16.5         2     yes\n",
            "d      James    NaN         3      no\n",
            "e      Emily    9.0         2      no\n"
          ]
        }
      ]
    },
    {
      "cell_type": "code",
      "source": [
        "\n",
        "first_3_rows = df.head(3)\n",
        "#another methode (prof)\n",
        "#print(df.iloc[:3])\n",
        "print(first_3_rows)\n",
        "print('**************************')\n",
        "df['Nord'] = df['Name'].str.startswith(('A', 'K', 'M'))\n",
        "print(df)\n",
        "print('**************************')\n",
        "df.drop('Nord', axis=1, inplace=True)\n",
        "print(df)\n"
      ],
      "metadata": {
        "id": "uxtHItJ4kggf",
        "colab": {
          "base_uri": "https://localhost:8080/"
        },
        "outputId": "abaf4342-a123-455b-8472-8fe9da53ff6f"
      },
      "execution_count": null,
      "outputs": [
        {
          "output_type": "stream",
          "name": "stdout",
          "text": [
            "        Name  score  attempts qualify\n",
            "a  Anastasia   12.5         1     yes\n",
            "b       Dima    9.0         3      no\n",
            "c  Katherine   16.5         2     yes\n",
            "**************************\n",
            "        Name  score  attempts qualify   Nord\n",
            "a  Anastasia   12.5         1     yes   True\n",
            "b       Dima    9.0         3      no  False\n",
            "c  Katherine   16.5         2     yes   True\n",
            "d      James    NaN         3      no  False\n",
            "e      Emily    9.0         2      no  False\n",
            "f    Michael   20.0         3     yes   True\n",
            "g    Matthew   14.5         1     yes   True\n",
            "h      Laura    NaN         1      no  False\n",
            "i      Kevin    8.0         2      no   True\n",
            "j      Jonas   19.0         1     yes  False\n",
            "**************************\n",
            "        Name  score  attempts qualify\n",
            "a  Anastasia   12.5         1     yes\n",
            "b       Dima    9.0         3      no\n",
            "c  Katherine   16.5         2     yes\n",
            "d      James    NaN         3      no\n",
            "e      Emily    9.0         2      no\n",
            "f    Michael   20.0         3     yes\n",
            "g    Matthew   14.5         1     yes\n",
            "h      Laura    NaN         1      no\n",
            "i      Kevin    8.0         2      no\n",
            "j      Jonas   19.0         1     yes\n"
          ]
        }
      ]
    },
    {
      "cell_type": "code",
      "source": [
        "selected_columns = df[['Name', 'score']]\n",
        "print(selected_columns)"
      ],
      "metadata": {
        "colab": {
          "base_uri": "https://localhost:8080/"
        },
        "id": "QU-vxvGSl-25",
        "outputId": "c3d3ba5f-f2d8-4728-fee5-21e97562824a"
      },
      "execution_count": null,
      "outputs": [
        {
          "output_type": "stream",
          "name": "stdout",
          "text": [
            "        Name  score\n",
            "a  Anastasia   12.5\n",
            "b       Dima    9.0\n",
            "c  Katherine   16.5\n",
            "d      James    NaN\n",
            "e      Emily    9.0\n",
            "f    Michael   20.0\n",
            "g    Matthew   14.5\n",
            "h      Laura    NaN\n",
            "i      Kevin    8.0\n",
            "j      Jonas   19.0\n"
          ]
        }
      ]
    },
    {
      "cell_type": "code",
      "source": [
        "selected_rows_columns = df.loc[df.index[[1, 3, 5, 6]], ['Name', 'score']]\n",
        "print(selected_rows_columns )"
      ],
      "metadata": {
        "colab": {
          "base_uri": "https://localhost:8080/"
        },
        "id": "muuiuxWWmLtH",
        "outputId": "495a6927-6ded-493a-8d92-d2c2e452d0dd"
      },
      "execution_count": null,
      "outputs": [
        {
          "output_type": "stream",
          "name": "stdout",
          "text": [
            "      Name  score\n",
            "b     Dima    9.0\n",
            "d    James    NaN\n",
            "f  Michael   20.0\n",
            "g  Matthew   14.5\n"
          ]
        }
      ]
    },
    {
      "cell_type": "code",
      "source": [
        "selected_attempts_gt_2 = df[df['attempts'] > 2]\n",
        "print(selected_attempts_gt_2 )\n"
      ],
      "metadata": {
        "colab": {
          "base_uri": "https://localhost:8080/"
        },
        "id": "IctLrbCQnCAO",
        "outputId": "11d03db1-3893-4e83-fbd5-efae7ff80b33"
      },
      "execution_count": null,
      "outputs": [
        {
          "output_type": "stream",
          "name": "stdout",
          "text": [
            "      Name  score  attempts qualify\n",
            "b     Dima    9.0         3      no\n",
            "d    James    NaN         3      no\n",
            "f  Michael   20.0         3     yes\n"
          ]
        }
      ]
    },
    {
      "cell_type": "code",
      "source": [
        "\"\"\" another methode\n",
        "nbligne=len(df.axes[0])\n",
        "nbcolone=len(df.axes[1])\n",
        "print(nbligne,nbcolone)\n",
        "\"\"\"\n",
        "num_rows, num_columns = df.shape\n",
        "print(\"num_rows:\",num_rows,\", num_columns:\", num_columns)"
      ],
      "metadata": {
        "colab": {
          "base_uri": "https://localhost:8080/"
        },
        "id": "Z0-7VA5GnNig",
        "outputId": "552f425b-1688-4a6a-b22a-e9f8f0832bfc"
      },
      "execution_count": null,
      "outputs": [
        {
          "output_type": "stream",
          "name": "stdout",
          "text": [
            "num_rows: 10 , num_columns: 4\n"
          ]
        }
      ]
    },
    {
      "cell_type": "code",
      "source": [
        "missing_score_rows = df[df['score'].isna()]\n",
        "print(missing_score_rows)"
      ],
      "metadata": {
        "colab": {
          "base_uri": "https://localhost:8080/"
        },
        "id": "2dp_rdBjnhCh",
        "outputId": "2b67d26e-4e91-4599-a7d6-c77ff8d96715"
      },
      "execution_count": null,
      "outputs": [
        {
          "output_type": "stream",
          "name": "stdout",
          "text": [
            "    Name  score  attempts qualify\n",
            "d  James    NaN         3      no\n",
            "h  Laura    NaN         1      no\n"
          ]
        }
      ]
    },
    {
      "cell_type": "code",
      "source": [
        "selected_score_between_15_20 = df[(df['score'] >= 15) & (df['score'] <= 20)]\n",
        "\"\"\"\n",
        "s_score_15_20= df[df['score'].between(15,20)]\n",
        "print(s_score_15_20)\n",
        "\"\"\"\n",
        "print(selected_score_between_15_20)"
      ],
      "metadata": {
        "colab": {
          "base_uri": "https://localhost:8080/"
        },
        "id": "hqh6SsbZnq8W",
        "outputId": "59300480-ff8d-4dc1-a8a8-418a62bd4fe6"
      },
      "execution_count": null,
      "outputs": [
        {
          "output_type": "stream",
          "name": "stdout",
          "text": [
            "        Name  score  attempts qualify\n",
            "c  Katherine   16.5         2     yes\n",
            "f    Michael   20.0         3     yes\n",
            "j      Jonas   19.0         1     yes\n"
          ]
        }
      ]
    },
    {
      "cell_type": "code",
      "source": [
        "selected_attempts_lt_2_score_gt_15 = df[(df['attempts'] < 2) | (df['score'] > 15)]\n",
        "\n",
        "print(selected_attempts_lt_2_score_gt_15 )"
      ],
      "metadata": {
        "colab": {
          "base_uri": "https://localhost:8080/"
        },
        "id": "UZfjHqren1ju",
        "outputId": "8b367ac1-59db-43ca-e81c-40119843d612"
      },
      "execution_count": null,
      "outputs": [
        {
          "output_type": "stream",
          "name": "stdout",
          "text": [
            "        Name  score  attempts qualify\n",
            "a  Anastasia   12.5         1     yes\n",
            "c  Katherine   16.5         2     yes\n",
            "f    Michael   20.0         3     yes\n",
            "g    Matthew   14.5         1     yes\n",
            "h      Laura    NaN         1      no\n",
            "j      Jonas   19.0         1     yes\n"
          ]
        }
      ]
    },
    {
      "cell_type": "code",
      "source": [
        "\n",
        "df.at['d', 'score'] = 11.5\n",
        "#df.loc['d','score']=7\n",
        "print(df)"
      ],
      "metadata": {
        "colab": {
          "base_uri": "https://localhost:8080/"
        },
        "id": "TipFBxtQoDDg",
        "outputId": "84b16d81-7205-4044-d66b-c7e2891b8784"
      },
      "execution_count": null,
      "outputs": [
        {
          "output_type": "stream",
          "name": "stdout",
          "text": [
            "        Name  score  attempts qualify\n",
            "a  Anastasia   12.5         1     yes\n",
            "b       Dima    9.0         3      no\n",
            "c  Katherine   16.5         2     yes\n",
            "d      James   11.5         3      no\n",
            "e      Emily    9.0         2      no\n",
            "f    Michael   20.0         3     yes\n",
            "g    Matthew   14.5         1     yes\n",
            "h      Laura    NaN         1      no\n",
            "i      Kevin    8.0         2      no\n",
            "j      Jonas   19.0         1     yes\n"
          ]
        }
      ]
    },
    {
      "cell_type": "code",
      "source": [
        "sum_attempts = df['attempts'].sum()\n",
        "print(sum_attempts )\n"
      ],
      "metadata": {
        "colab": {
          "base_uri": "https://localhost:8080/"
        },
        "id": "zbkJ0bWLo8wJ",
        "outputId": "a533a3a6-5f55-48f3-87c6-ff53be716725"
      },
      "execution_count": null,
      "outputs": [
        {
          "output_type": "stream",
          "name": "stdout",
          "text": [
            "19\n"
          ]
        }
      ]
    },
    {
      "cell_type": "code",
      "source": [
        "mean_score = df['score'].mean()\n",
        "print(mean_score)"
      ],
      "metadata": {
        "colab": {
          "base_uri": "https://localhost:8080/"
        },
        "id": "C7uilDH1pDXX",
        "outputId": "b775c379-07a3-4827-c6c1-91d7066ac22d"
      },
      "execution_count": null,
      "outputs": [
        {
          "output_type": "stream",
          "name": "stdout",
          "text": [
            "13.333333333333334\n"
          ]
        }
      ]
    },
    {
      "cell_type": "code",
      "source": [
        "df.loc['k']=['hamdi','5','3','yes']\n",
        "print(df)"
      ],
      "metadata": {
        "colab": {
          "base_uri": "https://localhost:8080/"
        },
        "id": "hb00I3xVpLGn",
        "outputId": "bc5f0236-7bab-4e76-cbbf-5aa2099b1cbb"
      },
      "execution_count": null,
      "outputs": [
        {
          "output_type": "stream",
          "name": "stdout",
          "text": [
            "        Name score attempts qualify\n",
            "a  Anastasia  12.5        1     yes\n",
            "b       Dima   9.0        3      no\n",
            "c  Katherine  16.5        2     yes\n",
            "d      James  11.5        3      no\n",
            "e      Emily   9.0        2      no\n",
            "f    Michael  20.0        3     yes\n",
            "g    Matthew  14.5        1     yes\n",
            "h      Laura   NaN        1      no\n",
            "i      Kevin   8.0        2      no\n",
            "j      Jonas  19.0        1     yes\n",
            "k      hamdi     5        3     yes\n"
          ]
        }
      ]
    },
    {
      "cell_type": "code",
      "source": [
        "df = df.drop('k')\n",
        "print(df)"
      ],
      "metadata": {
        "colab": {
          "base_uri": "https://localhost:8080/"
        },
        "id": "5uRIeiFxqBV5",
        "outputId": "710f0048-d560-46a7-d3ec-97ac0262c7aa"
      },
      "execution_count": null,
      "outputs": [
        {
          "output_type": "stream",
          "name": "stdout",
          "text": [
            "        Name score attempts qualify\n",
            "a  Anastasia  12.5        1     yes\n",
            "b       Dima   9.0        3      no\n",
            "c  Katherine  16.5        2     yes\n",
            "d      James  11.5        3      no\n",
            "e      Emily   9.0        2      no\n",
            "f    Michael  20.0        3     yes\n",
            "g    Matthew  14.5        1     yes\n",
            "h      Laura   NaN        1      no\n",
            "i      Kevin   8.0        2      no\n",
            "j      Jonas  19.0        1     yes\n"
          ]
        }
      ]
    },
    {
      "cell_type": "code",
      "source": [
        "df_sorted_by_name = df.sort_values(by='Name')\n",
        "print(df_sorted_by_name)"
      ],
      "metadata": {
        "colab": {
          "base_uri": "https://localhost:8080/"
        },
        "id": "Xgvhdi5PqIeB",
        "outputId": "7d8ac580-afe6-4856-d8d5-b29f230edea0"
      },
      "execution_count": null,
      "outputs": [
        {
          "output_type": "stream",
          "name": "stdout",
          "text": [
            "        Name score attempts qualify\n",
            "a  Anastasia  12.5        1     yes\n",
            "b       Dima   9.0        3      no\n",
            "e      Emily   9.0        2      no\n",
            "d      James  11.5        3      no\n",
            "j      Jonas  19.0        1     yes\n",
            "c  Katherine  16.5        2     yes\n",
            "i      Kevin   8.0        2      no\n",
            "h      Laura   NaN        1      no\n",
            "g    Matthew  14.5        1     yes\n",
            "f    Michael  20.0        3     yes\n"
          ]
        }
      ]
    },
    {
      "cell_type": "code",
      "source": [
        "df_sorted_by_score_desc = df.sort_values(by='score', ascending=False)\n",
        "print(df_sorted_by_score_desc)"
      ],
      "metadata": {
        "colab": {
          "base_uri": "https://localhost:8080/"
        },
        "id": "g-3Y9QRfqXVv",
        "outputId": "25913fe2-ffef-4dc9-be6c-ebeb7ce4390e"
      },
      "execution_count": null,
      "outputs": [
        {
          "output_type": "stream",
          "name": "stdout",
          "text": [
            "        Name  score  attempts qualify\n",
            "5    Michael   20.0         3     yes\n",
            "9      Jonas   19.0         1     yes\n",
            "2  Katherine   16.5         2     yes\n",
            "6    Matthew   14.5         1     yes\n",
            "0  Anastasia   12.5         1     yes\n",
            "1       Dima    9.0         3      no\n",
            "4      Emily    9.0         2      no\n",
            "8      Kevin    8.0         2      no\n",
            "3      James    NaN         3      no\n",
            "7      Laura    NaN         1      no\n"
          ]
        }
      ]
    },
    {
      "cell_type": "code",
      "source": [
        "df['qualify'] = df['qualify'].map({'yes': True, 'no': False})\n",
        "print(df)"
      ],
      "metadata": {
        "colab": {
          "base_uri": "https://localhost:8080/"
        },
        "id": "g9vMty7aqepA",
        "outputId": "5d27e001-5d55-4a26-e8fc-aa5ab832ff8e"
      },
      "execution_count": null,
      "outputs": [
        {
          "output_type": "stream",
          "name": "stdout",
          "text": [
            "        Name  score  attempts  qualify\n",
            "0  Anastasia   12.5         1     True\n",
            "1       Dima    9.0         3    False\n",
            "2  Katherine   16.5         2     True\n",
            "3      James    NaN         3    False\n",
            "4      Emily    9.0         2    False\n",
            "5    Michael   20.0         3     True\n",
            "6    Matthew   14.5         1     True\n",
            "7      Laura    NaN         1    False\n",
            "8      Kevin    8.0         2    False\n",
            "9      Jonas   19.0         1     True\n"
          ]
        }
      ]
    },
    {
      "cell_type": "code",
      "source": [
        "df.loc[df['Name'] == 'James', 'Name'] = 'Suresh'\n",
        "print(df)"
      ],
      "metadata": {
        "colab": {
          "base_uri": "https://localhost:8080/"
        },
        "id": "z4LMWNovqq2P",
        "outputId": "1e650cc8-d23d-4e9b-c5a9-f42c292641ad"
      },
      "execution_count": null,
      "outputs": [
        {
          "output_type": "stream",
          "name": "stdout",
          "text": [
            "        Name  score  attempts  qualify\n",
            "0  Anastasia   12.5         1     True\n",
            "1       Dima    9.0         3    False\n",
            "2  Katherine   16.5         2     True\n",
            "3     Suresh    NaN         3    False\n",
            "4      Emily    9.0         2    False\n",
            "5    Michael   20.0         3     True\n",
            "6    Matthew   14.5         1     True\n",
            "7      Laura    NaN         1    False\n",
            "8      Kevin    8.0         2    False\n",
            "9      Jonas   19.0         1     True\n"
          ]
        }
      ]
    },
    {
      "cell_type": "code",
      "source": [
        "df = df.drop('attempts', axis=1)\n",
        "print(df)"
      ],
      "metadata": {
        "colab": {
          "base_uri": "https://localhost:8080/"
        },
        "id": "q10n4tA0q6GY",
        "outputId": "5225417b-a6cf-43ac-f85f-8b2bfa1ae0db"
      },
      "execution_count": null,
      "outputs": [
        {
          "output_type": "stream",
          "name": "stdout",
          "text": [
            "        Name  score  qualify\n",
            "0  Anastasia   12.5     True\n",
            "1       Dima    9.0    False\n",
            "2  Katherine   16.5     True\n",
            "3     Suresh    NaN    False\n",
            "4      Emily    9.0    False\n",
            "5    Michael   20.0     True\n",
            "6    Matthew   14.5     True\n",
            "7      Laura    NaN    False\n",
            "8      Kevin    8.0    False\n",
            "9      Jonas   19.0     True\n"
          ]
        }
      ]
    },
    {
      "cell_type": "code",
      "source": [
        "df['new_column'] = [1, 2, 3, 4, 5, 6, 7, 8, 9, 10]\n",
        "print(df)"
      ],
      "metadata": {
        "colab": {
          "base_uri": "https://localhost:8080/"
        },
        "id": "IZVuADtarGfi",
        "outputId": "fac5848c-4b21-4f6d-8c6f-da8b455eab8c"
      },
      "execution_count": null,
      "outputs": [
        {
          "output_type": "stream",
          "name": "stdout",
          "text": [
            "        Name  score  qualify  new_column\n",
            "0  Anastasia   12.5     True           1\n",
            "1       Dima    9.0    False           2\n",
            "2  Katherine   16.5     True           3\n",
            "3     Suresh    NaN    False           4\n",
            "4      Emily    9.0    False           5\n",
            "5    Michael   20.0     True           6\n",
            "6    Matthew   14.5     True           7\n",
            "7      Laura    NaN    False           8\n",
            "8      Kevin    8.0    False           9\n",
            "9      Jonas   19.0     True          10\n"
          ]
        }
      ]
    },
    {
      "cell_type": "code",
      "source": [
        "for index, row in df.iterrows():\n",
        "    print(row['Name'], row['score'], row['qualify'])\n"
      ],
      "metadata": {
        "colab": {
          "base_uri": "https://localhost:8080/"
        },
        "id": "3Qm2iA4prQS_",
        "outputId": "54fdc647-59db-496c-96d5-d84a2787d7cf"
      },
      "execution_count": null,
      "outputs": [
        {
          "output_type": "stream",
          "name": "stdout",
          "text": [
            "Anastasia 12.5 True\n",
            "Dima 9.0 False\n",
            "Katherine 16.5 True\n",
            "Suresh nan False\n",
            "Emily 9.0 False\n",
            "Michael 20.0 True\n",
            "Matthew 14.5 True\n",
            "Laura nan False\n",
            "Kevin 8.0 False\n",
            "Jonas 19.0 True\n"
          ]
        }
      ]
    },
    {
      "cell_type": "code",
      "source": [
        "df = df.fillna(0)\n",
        "print(df)"
      ],
      "metadata": {
        "colab": {
          "base_uri": "https://localhost:8080/"
        },
        "id": "wlsEr3qlrYd5",
        "outputId": "97dc0c5a-268f-4312-8e35-436b7c37f4a0"
      },
      "execution_count": null,
      "outputs": [
        {
          "output_type": "stream",
          "name": "stdout",
          "text": [
            "        Name  score  qualify  new_column\n",
            "0  Anastasia   12.5     True           1\n",
            "1       Dima    9.0    False           2\n",
            "2  Katherine   16.5     True           3\n",
            "3     Suresh    0.0    False           4\n",
            "4      Emily    9.0    False           5\n",
            "5    Michael   20.0     True           6\n",
            "6    Matthew   14.5     True           7\n",
            "7      Laura    0.0    False           8\n",
            "8      Kevin    8.0    False           9\n",
            "9      Jonas   19.0     True          10\n"
          ]
        }
      ]
    },
    {
      "cell_type": "code",
      "source": [
        "df.at['d', 'score'] = 11.5\n",
        "print(df)"
      ],
      "metadata": {
        "colab": {
          "base_uri": "https://localhost:8080/"
        },
        "id": "_e2yf7JdrgjP",
        "outputId": "04f6cb53-52af-461f-ead1-65a7b56b4732"
      },
      "execution_count": null,
      "outputs": [
        {
          "output_type": "stream",
          "name": "stdout",
          "text": [
            "        Name  score qualify  new_column\n",
            "0  Anastasia   12.5    True         1.0\n",
            "1       Dima    9.0   False         2.0\n",
            "2  Katherine   16.5    True         3.0\n",
            "3     Suresh    0.0   False         4.0\n",
            "4      Emily    9.0   False         5.0\n",
            "5    Michael   20.0    True         6.0\n",
            "6    Matthew   14.5    True         7.0\n",
            "7      Laura    0.0   False         8.0\n",
            "8      Kevin    8.0   False         9.0\n",
            "9      Jonas   19.0    True        10.0\n",
            "d        NaN   11.5     NaN         NaN\n"
          ]
        }
      ]
    },
    {
      "cell_type": "code",
      "source": [
        "nan_count = df['score'].isna().sum()\n",
        "print(nan_count)"
      ],
      "metadata": {
        "colab": {
          "base_uri": "https://localhost:8080/"
        },
        "id": "cmczwNCSrsZ4",
        "outputId": "921eeb61-e70d-4660-ffb2-7c9250243c8f"
      },
      "execution_count": null,
      "outputs": [
        {
          "output_type": "stream",
          "name": "stdout",
          "text": [
            "0\n"
          ]
        }
      ]
    },
    {
      "cell_type": "code",
      "source": [
        "column_headers = df.columns.tolist()\n",
        "\n",
        "print(column_headers)"
      ],
      "metadata": {
        "colab": {
          "base_uri": "https://localhost:8080/"
        },
        "id": "CVX38WzSr3Mn",
        "outputId": "6020335a-84f6-4453-df63-6d59341a688b"
      },
      "execution_count": null,
      "outputs": [
        {
          "output_type": "stream",
          "name": "stdout",
          "text": [
            "['Name', 'score', 'qualify', 'new_column']\n"
          ]
        }
      ]
    },
    {
      "cell_type": "code",
      "source": [
        "df = df.rename(columns={'Name': 'StudentName', 'score': 'Score', 'qualify': 'Qualified'})\n",
        "print(df)"
      ],
      "metadata": {
        "colab": {
          "base_uri": "https://localhost:8080/"
        },
        "id": "S-mzZH9TsAGp",
        "outputId": "dec2d5f0-4951-40a0-9d3f-d51ae8dcd1eb"
      },
      "execution_count": null,
      "outputs": [
        {
          "output_type": "stream",
          "name": "stdout",
          "text": [
            "  StudentName  Score Qualified  new_column\n",
            "0   Anastasia   12.5      True         1.0\n",
            "1        Dima    9.0     False         2.0\n",
            "2   Katherine   16.5      True         3.0\n",
            "3      Suresh    0.0     False         4.0\n",
            "4       Emily    9.0     False         5.0\n",
            "5     Michael   20.0      True         6.0\n",
            "6     Matthew   14.5      True         7.0\n",
            "7       Laura    0.0     False         8.0\n",
            "8       Kevin    8.0     False         9.0\n",
            "9       Jonas   19.0      True        10.0\n",
            "d         NaN   11.5       NaN         NaN\n"
          ]
        }
      ]
    },
    {
      "cell_type": "code",
      "source": [
        "selected_rows = df[df['Score'] > 15]\n",
        "print(selected_rows )\n"
      ],
      "metadata": {
        "colab": {
          "base_uri": "https://localhost:8080/"
        },
        "id": "8IyM4XohsFpA",
        "outputId": "049f6cee-ae4e-4c1d-defa-0c77da13b351"
      },
      "execution_count": null,
      "outputs": [
        {
          "output_type": "stream",
          "name": "stdout",
          "text": [
            "  StudentName  Score Qualified  new_column\n",
            "2   Katherine   16.5      True         3.0\n",
            "5     Michael   20.0      True         6.0\n",
            "9       Jonas   19.0      True        10.0\n"
          ]
        }
      ]
    },
    {
      "cell_type": "code",
      "source": [
        "df = df[['Score', 'Qualified', 'StudentName']]\n",
        "print(df)"
      ],
      "metadata": {
        "colab": {
          "base_uri": "https://localhost:8080/"
        },
        "id": "hHYUcmSMsVyI",
        "outputId": "8d8c0051-7ac4-4738-bd64-b53a6ff6b069"
      },
      "execution_count": null,
      "outputs": [
        {
          "output_type": "stream",
          "name": "stdout",
          "text": [
            "   Score Qualified StudentName\n",
            "0   12.5      True   Anastasia\n",
            "1    9.0     False        Dima\n",
            "2   16.5      True   Katherine\n",
            "3    0.0     False      Suresh\n",
            "4    9.0     False       Emily\n",
            "5   20.0      True     Michael\n",
            "6   14.5      True     Matthew\n",
            "7    0.0     False       Laura\n",
            "8    8.0     False       Kevin\n",
            "9   19.0      True       Jonas\n",
            "d   11.5       NaN         NaN\n"
          ]
        }
      ]
    }
  ]
}